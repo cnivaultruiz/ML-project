{
 "cells": [
  {
   "cell_type": "code",
   "execution_count": 255,
   "metadata": {},
   "outputs": [],
   "source": [
    "#import libraries\n",
    "import pandas as pd\n",
    "import numpy as np\n",
    "import matplotlib.pyplot as plt\n",
    "import seaborn as sns\n",
    "from sklearn.model_selection import train_test_split\n",
    "# Exemple d'utilisation\n",
    "from sklearn.tree import DecisionTreeClassifier\n",
    "from sklearn.ensemble import BaggingClassifier, RandomForestClassifier,AdaBoostClassifier, GradientBoostingClassifier\n",
    "from sklearn.neighbors import KNeighborsClassifier\n",
    "from sklearn.svm import SVC\n",
    "from sklearn.metrics import r2_score, accuracy_score,f1_score, precision_score,recall_score, classification_report\n",
    "from sklearn.utils import resample"
   ]
  },
  {
   "cell_type": "code",
   "execution_count": 256,
   "metadata": {},
   "outputs": [
    {
     "data": {
      "text/html": [
       "<div>\n",
       "<style scoped>\n",
       "    .dataframe tbody tr th:only-of-type {\n",
       "        vertical-align: middle;\n",
       "    }\n",
       "\n",
       "    .dataframe tbody tr th {\n",
       "        vertical-align: top;\n",
       "    }\n",
       "\n",
       "    .dataframe thead th {\n",
       "        text-align: right;\n",
       "    }\n",
       "</style>\n",
       "<table border=\"1\" class=\"dataframe\">\n",
       "  <thead>\n",
       "    <tr style=\"text-align: right;\">\n",
       "      <th></th>\n",
       "      <th>Name</th>\n",
       "      <th>Position</th>\n",
       "      <th>Age</th>\n",
       "      <th>Club</th>\n",
       "      <th>Height</th>\n",
       "      <th>Foot</th>\n",
       "      <th>Caps</th>\n",
       "      <th>Goals</th>\n",
       "      <th>MarketValue</th>\n",
       "      <th>Country</th>\n",
       "    </tr>\n",
       "  </thead>\n",
       "  <tbody>\n",
       "    <tr>\n",
       "      <th>0</th>\n",
       "      <td>Marc-André ter Stegen</td>\n",
       "      <td>Goalkeeper</td>\n",
       "      <td>32</td>\n",
       "      <td>FC Barcelona</td>\n",
       "      <td>187</td>\n",
       "      <td>right</td>\n",
       "      <td>40</td>\n",
       "      <td>0</td>\n",
       "      <td>28000000</td>\n",
       "      <td>Germany</td>\n",
       "    </tr>\n",
       "    <tr>\n",
       "      <th>1</th>\n",
       "      <td>Manuel Neuer</td>\n",
       "      <td>Goalkeeper</td>\n",
       "      <td>38</td>\n",
       "      <td>Bayern Munich</td>\n",
       "      <td>193</td>\n",
       "      <td>right</td>\n",
       "      <td>119</td>\n",
       "      <td>0</td>\n",
       "      <td>4000000</td>\n",
       "      <td>Germany</td>\n",
       "    </tr>\n",
       "    <tr>\n",
       "      <th>2</th>\n",
       "      <td>Oliver Baumann</td>\n",
       "      <td>Goalkeeper</td>\n",
       "      <td>34</td>\n",
       "      <td>TSG 1899 Hoffenheim</td>\n",
       "      <td>187</td>\n",
       "      <td>right</td>\n",
       "      <td>0</td>\n",
       "      <td>0</td>\n",
       "      <td>3000000</td>\n",
       "      <td>Germany</td>\n",
       "    </tr>\n",
       "    <tr>\n",
       "      <th>3</th>\n",
       "      <td>Nico Schlotterbeck</td>\n",
       "      <td>Centre-Back</td>\n",
       "      <td>24</td>\n",
       "      <td>Borussia Dortmund</td>\n",
       "      <td>191</td>\n",
       "      <td>left</td>\n",
       "      <td>12</td>\n",
       "      <td>0</td>\n",
       "      <td>40000000</td>\n",
       "      <td>Germany</td>\n",
       "    </tr>\n",
       "    <tr>\n",
       "      <th>4</th>\n",
       "      <td>Jonathan Tah</td>\n",
       "      <td>Centre-Back</td>\n",
       "      <td>28</td>\n",
       "      <td>Bayer 04 Leverkusen</td>\n",
       "      <td>195</td>\n",
       "      <td>right</td>\n",
       "      <td>25</td>\n",
       "      <td>0</td>\n",
       "      <td>30000000</td>\n",
       "      <td>Germany</td>\n",
       "    </tr>\n",
       "  </tbody>\n",
       "</table>\n",
       "</div>"
      ],
      "text/plain": [
       "                    Name     Position  Age                 Club  Height  \\\n",
       "0  Marc-André ter Stegen   Goalkeeper   32         FC Barcelona     187   \n",
       "1           Manuel Neuer   Goalkeeper   38        Bayern Munich     193   \n",
       "2         Oliver Baumann   Goalkeeper   34  TSG 1899 Hoffenheim     187   \n",
       "3     Nico Schlotterbeck  Centre-Back   24    Borussia Dortmund     191   \n",
       "4           Jonathan Tah  Centre-Back   28  Bayer 04 Leverkusen     195   \n",
       "\n",
       "    Foot  Caps  Goals  MarketValue  Country  \n",
       "0  right    40      0     28000000  Germany  \n",
       "1  right   119      0      4000000  Germany  \n",
       "2  right     0      0      3000000  Germany  \n",
       "3   left    12      0     40000000  Germany  \n",
       "4  right    25      0     30000000  Germany  "
      ]
     },
     "execution_count": 256,
     "metadata": {},
     "output_type": "execute_result"
    }
   ],
   "source": [
    "# https://www.kaggle.com/datasets/damirdizdarevic/uefa-euro-2024-players\n",
    "foot_df = pd.read_csv(\"euro2024_players.csv\")\n",
    "foot_df.head()"
   ]
  },
  {
   "cell_type": "code",
   "execution_count": 257,
   "metadata": {},
   "outputs": [
    {
     "name": "stdout",
     "output_type": "stream",
     "text": [
      "(623, 10)\n"
     ]
    },
    {
     "data": {
      "text/html": [
       "<div>\n",
       "<style scoped>\n",
       "    .dataframe tbody tr th:only-of-type {\n",
       "        vertical-align: middle;\n",
       "    }\n",
       "\n",
       "    .dataframe tbody tr th {\n",
       "        vertical-align: top;\n",
       "    }\n",
       "\n",
       "    .dataframe thead th {\n",
       "        text-align: right;\n",
       "    }\n",
       "</style>\n",
       "<table border=\"1\" class=\"dataframe\">\n",
       "  <thead>\n",
       "    <tr style=\"text-align: right;\">\n",
       "      <th></th>\n",
       "      <th>Age</th>\n",
       "      <th>Height</th>\n",
       "      <th>Caps</th>\n",
       "      <th>Goals</th>\n",
       "      <th>MarketValue</th>\n",
       "    </tr>\n",
       "  </thead>\n",
       "  <tbody>\n",
       "    <tr>\n",
       "      <th>count</th>\n",
       "      <td>623.000000</td>\n",
       "      <td>623.000000</td>\n",
       "      <td>623.000000</td>\n",
       "      <td>623.000000</td>\n",
       "      <td>6.230000e+02</td>\n",
       "    </tr>\n",
       "    <tr>\n",
       "      <th>mean</th>\n",
       "      <td>27.040128</td>\n",
       "      <td>184.181380</td>\n",
       "      <td>30.338684</td>\n",
       "      <td>4.152488</td>\n",
       "      <td>1.840903e+07</td>\n",
       "    </tr>\n",
       "    <tr>\n",
       "      <th>std</th>\n",
       "      <td>4.124275</td>\n",
       "      <td>6.569258</td>\n",
       "      <td>30.987902</td>\n",
       "      <td>10.086803</td>\n",
       "      <td>2.426195e+07</td>\n",
       "    </tr>\n",
       "    <tr>\n",
       "      <th>min</th>\n",
       "      <td>16.000000</td>\n",
       "      <td>167.000000</td>\n",
       "      <td>0.000000</td>\n",
       "      <td>0.000000</td>\n",
       "      <td>5.000000e+04</td>\n",
       "    </tr>\n",
       "    <tr>\n",
       "      <th>25%</th>\n",
       "      <td>24.000000</td>\n",
       "      <td>180.000000</td>\n",
       "      <td>7.000000</td>\n",
       "      <td>0.000000</td>\n",
       "      <td>2.900000e+06</td>\n",
       "    </tr>\n",
       "    <tr>\n",
       "      <th>50%</th>\n",
       "      <td>27.000000</td>\n",
       "      <td>185.000000</td>\n",
       "      <td>21.000000</td>\n",
       "      <td>1.000000</td>\n",
       "      <td>9.000000e+06</td>\n",
       "    </tr>\n",
       "    <tr>\n",
       "      <th>75%</th>\n",
       "      <td>30.000000</td>\n",
       "      <td>189.000000</td>\n",
       "      <td>42.000000</td>\n",
       "      <td>4.000000</td>\n",
       "      <td>2.500000e+07</td>\n",
       "    </tr>\n",
       "    <tr>\n",
       "      <th>max</th>\n",
       "      <td>41.000000</td>\n",
       "      <td>202.000000</td>\n",
       "      <td>206.000000</td>\n",
       "      <td>128.000000</td>\n",
       "      <td>1.800000e+08</td>\n",
       "    </tr>\n",
       "  </tbody>\n",
       "</table>\n",
       "</div>"
      ],
      "text/plain": [
       "              Age      Height        Caps       Goals   MarketValue\n",
       "count  623.000000  623.000000  623.000000  623.000000  6.230000e+02\n",
       "mean    27.040128  184.181380   30.338684    4.152488  1.840903e+07\n",
       "std      4.124275    6.569258   30.987902   10.086803  2.426195e+07\n",
       "min     16.000000  167.000000    0.000000    0.000000  5.000000e+04\n",
       "25%     24.000000  180.000000    7.000000    0.000000  2.900000e+06\n",
       "50%     27.000000  185.000000   21.000000    1.000000  9.000000e+06\n",
       "75%     30.000000  189.000000   42.000000    4.000000  2.500000e+07\n",
       "max     41.000000  202.000000  206.000000  128.000000  1.800000e+08"
      ]
     },
     "metadata": {},
     "output_type": "display_data"
    }
   ],
   "source": [
    "print(foot_df.shape)\n",
    "display(foot_df.describe())"
   ]
  },
  {
   "cell_type": "code",
   "execution_count": 258,
   "metadata": {},
   "outputs": [
    {
     "data": {
      "text/plain": [
       "Name           object\n",
       "Position       object\n",
       "Age             int64\n",
       "Club           object\n",
       "Height          int64\n",
       "Foot           object\n",
       "Caps            int64\n",
       "Goals           int64\n",
       "MarketValue     int64\n",
       "Country        object\n",
       "dtype: object"
      ]
     },
     "execution_count": 258,
     "metadata": {},
     "output_type": "execute_result"
    }
   ],
   "source": [
    "foot_df.dtypes\n"
   ]
  },
  {
   "cell_type": "code",
   "execution_count": 259,
   "metadata": {},
   "outputs": [
    {
     "data": {
      "text/plain": [
       "Name           0\n",
       "Position       0\n",
       "Age            0\n",
       "Club           0\n",
       "Height         0\n",
       "Foot           3\n",
       "Caps           0\n",
       "Goals          0\n",
       "MarketValue    0\n",
       "Country        0\n",
       "dtype: int64"
      ]
     },
     "execution_count": 259,
     "metadata": {},
     "output_type": "execute_result"
    }
   ],
   "source": [
    "foot_df.isna().sum()"
   ]
  },
  {
   "cell_type": "code",
   "execution_count": 260,
   "metadata": {},
   "outputs": [],
   "source": [
    "foot_df = foot_df.dropna()"
   ]
  },
  {
   "cell_type": "code",
   "execution_count": 261,
   "metadata": {},
   "outputs": [
    {
     "data": {
      "text/plain": [
       "0"
      ]
     },
     "execution_count": 261,
     "metadata": {},
     "output_type": "execute_result"
    }
   ],
   "source": [
    "foot_df.duplicated().sum()"
   ]
  },
  {
   "cell_type": "code",
   "execution_count": 262,
   "metadata": {},
   "outputs": [
    {
     "data": {
      "text/html": [
       "<div>\n",
       "<style scoped>\n",
       "    .dataframe tbody tr th:only-of-type {\n",
       "        vertical-align: middle;\n",
       "    }\n",
       "\n",
       "    .dataframe tbody tr th {\n",
       "        vertical-align: top;\n",
       "    }\n",
       "\n",
       "    .dataframe thead th {\n",
       "        text-align: right;\n",
       "    }\n",
       "</style>\n",
       "<table border=\"1\" class=\"dataframe\">\n",
       "  <thead>\n",
       "    <tr style=\"text-align: right;\">\n",
       "      <th></th>\n",
       "      <th>Name</th>\n",
       "      <th>Position</th>\n",
       "      <th>Age</th>\n",
       "      <th>Club</th>\n",
       "      <th>Height</th>\n",
       "      <th>Foot</th>\n",
       "      <th>Caps</th>\n",
       "      <th>Goals</th>\n",
       "      <th>MarketValue</th>\n",
       "      <th>Country</th>\n",
       "    </tr>\n",
       "  </thead>\n",
       "  <tbody>\n",
       "    <tr>\n",
       "      <th>0</th>\n",
       "      <td>Marc-André ter Stegen</td>\n",
       "      <td>Goalkeeper</td>\n",
       "      <td>32</td>\n",
       "      <td>FC Barcelona</td>\n",
       "      <td>187</td>\n",
       "      <td>right</td>\n",
       "      <td>40</td>\n",
       "      <td>0</td>\n",
       "      <td>28000000</td>\n",
       "      <td>Germany</td>\n",
       "    </tr>\n",
       "    <tr>\n",
       "      <th>1</th>\n",
       "      <td>Manuel Neuer</td>\n",
       "      <td>Goalkeeper</td>\n",
       "      <td>38</td>\n",
       "      <td>Bayern Munich</td>\n",
       "      <td>193</td>\n",
       "      <td>right</td>\n",
       "      <td>119</td>\n",
       "      <td>0</td>\n",
       "      <td>4000000</td>\n",
       "      <td>Germany</td>\n",
       "    </tr>\n",
       "    <tr>\n",
       "      <th>2</th>\n",
       "      <td>Oliver Baumann</td>\n",
       "      <td>Goalkeeper</td>\n",
       "      <td>34</td>\n",
       "      <td>TSG 1899 Hoffenheim</td>\n",
       "      <td>187</td>\n",
       "      <td>right</td>\n",
       "      <td>0</td>\n",
       "      <td>0</td>\n",
       "      <td>3000000</td>\n",
       "      <td>Germany</td>\n",
       "    </tr>\n",
       "    <tr>\n",
       "      <th>3</th>\n",
       "      <td>Nico Schlotterbeck</td>\n",
       "      <td>Centre-Back</td>\n",
       "      <td>24</td>\n",
       "      <td>Borussia Dortmund</td>\n",
       "      <td>191</td>\n",
       "      <td>left</td>\n",
       "      <td>12</td>\n",
       "      <td>0</td>\n",
       "      <td>40000000</td>\n",
       "      <td>Germany</td>\n",
       "    </tr>\n",
       "    <tr>\n",
       "      <th>4</th>\n",
       "      <td>Jonathan Tah</td>\n",
       "      <td>Centre-Back</td>\n",
       "      <td>28</td>\n",
       "      <td>Bayer 04 Leverkusen</td>\n",
       "      <td>195</td>\n",
       "      <td>right</td>\n",
       "      <td>25</td>\n",
       "      <td>0</td>\n",
       "      <td>30000000</td>\n",
       "      <td>Germany</td>\n",
       "    </tr>\n",
       "    <tr>\n",
       "      <th>...</th>\n",
       "      <td>...</td>\n",
       "      <td>...</td>\n",
       "      <td>...</td>\n",
       "      <td>...</td>\n",
       "      <td>...</td>\n",
       "      <td>...</td>\n",
       "      <td>...</td>\n",
       "      <td>...</td>\n",
       "      <td>...</td>\n",
       "      <td>...</td>\n",
       "    </tr>\n",
       "    <tr>\n",
       "      <th>618</th>\n",
       "      <td>Adam Hlozek</td>\n",
       "      <td>Second Striker</td>\n",
       "      <td>21</td>\n",
       "      <td>Bayer 04 Leverkusen</td>\n",
       "      <td>188</td>\n",
       "      <td>right</td>\n",
       "      <td>31</td>\n",
       "      <td>2</td>\n",
       "      <td>12000000</td>\n",
       "      <td>Czech Republic</td>\n",
       "    </tr>\n",
       "    <tr>\n",
       "      <th>619</th>\n",
       "      <td>Patrik Schick</td>\n",
       "      <td>Centre-Forward</td>\n",
       "      <td>28</td>\n",
       "      <td>Bayer 04 Leverkusen</td>\n",
       "      <td>191</td>\n",
       "      <td>left</td>\n",
       "      <td>37</td>\n",
       "      <td>18</td>\n",
       "      <td>22000000</td>\n",
       "      <td>Czech Republic</td>\n",
       "    </tr>\n",
       "    <tr>\n",
       "      <th>620</th>\n",
       "      <td>Mojmír Chytil</td>\n",
       "      <td>Centre-Forward</td>\n",
       "      <td>25</td>\n",
       "      <td>SK Slavia Prague</td>\n",
       "      <td>187</td>\n",
       "      <td>-</td>\n",
       "      <td>12</td>\n",
       "      <td>4</td>\n",
       "      <td>6500000</td>\n",
       "      <td>Czech Republic</td>\n",
       "    </tr>\n",
       "    <tr>\n",
       "      <th>621</th>\n",
       "      <td>Jan Kuchta</td>\n",
       "      <td>Centre-Forward</td>\n",
       "      <td>27</td>\n",
       "      <td>AC Sparta Prague</td>\n",
       "      <td>185</td>\n",
       "      <td>right</td>\n",
       "      <td>20</td>\n",
       "      <td>3</td>\n",
       "      <td>5000000</td>\n",
       "      <td>Czech Republic</td>\n",
       "    </tr>\n",
       "    <tr>\n",
       "      <th>622</th>\n",
       "      <td>Tomas Chory</td>\n",
       "      <td>Centre-Forward</td>\n",
       "      <td>29</td>\n",
       "      <td>FC Viktoria Plzen</td>\n",
       "      <td>199</td>\n",
       "      <td>right</td>\n",
       "      <td>3</td>\n",
       "      <td>2</td>\n",
       "      <td>3200000</td>\n",
       "      <td>Czech Republic</td>\n",
       "    </tr>\n",
       "  </tbody>\n",
       "</table>\n",
       "<p>620 rows × 10 columns</p>\n",
       "</div>"
      ],
      "text/plain": [
       "                      Name        Position  Age                 Club  Height  \\\n",
       "0    Marc-André ter Stegen      Goalkeeper   32         FC Barcelona     187   \n",
       "1             Manuel Neuer      Goalkeeper   38        Bayern Munich     193   \n",
       "2           Oliver Baumann      Goalkeeper   34  TSG 1899 Hoffenheim     187   \n",
       "3       Nico Schlotterbeck     Centre-Back   24    Borussia Dortmund     191   \n",
       "4             Jonathan Tah     Centre-Back   28  Bayer 04 Leverkusen     195   \n",
       "..                     ...             ...  ...                  ...     ...   \n",
       "618            Adam Hlozek  Second Striker   21  Bayer 04 Leverkusen     188   \n",
       "619          Patrik Schick  Centre-Forward   28  Bayer 04 Leverkusen     191   \n",
       "620          Mojmír Chytil  Centre-Forward   25     SK Slavia Prague     187   \n",
       "621             Jan Kuchta  Centre-Forward   27     AC Sparta Prague     185   \n",
       "622            Tomas Chory  Centre-Forward   29    FC Viktoria Plzen     199   \n",
       "\n",
       "      Foot  Caps  Goals  MarketValue         Country  \n",
       "0    right    40      0     28000000         Germany  \n",
       "1    right   119      0      4000000         Germany  \n",
       "2    right     0      0      3000000         Germany  \n",
       "3     left    12      0     40000000         Germany  \n",
       "4    right    25      0     30000000         Germany  \n",
       "..     ...   ...    ...          ...             ...  \n",
       "618  right    31      2     12000000  Czech Republic  \n",
       "619   left    37     18     22000000  Czech Republic  \n",
       "620      -    12      4      6500000  Czech Republic  \n",
       "621  right    20      3      5000000  Czech Republic  \n",
       "622  right     3      2      3200000  Czech Republic  \n",
       "\n",
       "[620 rows x 10 columns]"
      ]
     },
     "execution_count": 262,
     "metadata": {},
     "output_type": "execute_result"
    }
   ],
   "source": [
    "foot_df"
   ]
  },
  {
   "cell_type": "code",
   "execution_count": 263,
   "metadata": {},
   "outputs": [],
   "source": [
    "# mapping de la colonne position\n",
    "\n",
    "position_mapping = {\n",
    "    'Goalkeeper': 'Gardien de but',\n",
    "    'Centre-Back': 'Défenseur',\n",
    "    'Left-Back': 'Défenseur',\n",
    "    'Right-Back': 'Défenseur',\n",
    "    'Defensive Midfield': 'Milieu de terrain',\n",
    "    'Central Midfield': 'Milieu de terrain',\n",
    "    'Attacking Midfield': 'Milieu de terrain',\n",
    "    'Left Midfield': 'Milieu de terrain',\n",
    "    'Right Midfield': 'Milieu de terrain',\n",
    "    'Left Winger': 'Attaquant',\n",
    "    'Right Winger': 'Attaquant',\n",
    "    'Centre-Forward': 'Attaquant',\n",
    "    'Second Striker': 'Attaquant'\n",
    "}\n"
   ]
  },
  {
   "cell_type": "code",
   "execution_count": 264,
   "metadata": {},
   "outputs": [
    {
     "data": {
      "text/html": [
       "<div>\n",
       "<style scoped>\n",
       "    .dataframe tbody tr th:only-of-type {\n",
       "        vertical-align: middle;\n",
       "    }\n",
       "\n",
       "    .dataframe tbody tr th {\n",
       "        vertical-align: top;\n",
       "    }\n",
       "\n",
       "    .dataframe thead th {\n",
       "        text-align: right;\n",
       "    }\n",
       "</style>\n",
       "<table border=\"1\" class=\"dataframe\">\n",
       "  <thead>\n",
       "    <tr style=\"text-align: right;\">\n",
       "      <th></th>\n",
       "      <th>Name</th>\n",
       "      <th>Position</th>\n",
       "      <th>Age</th>\n",
       "      <th>Club</th>\n",
       "      <th>Height</th>\n",
       "      <th>Foot</th>\n",
       "      <th>Caps</th>\n",
       "      <th>Goals</th>\n",
       "      <th>MarketValue</th>\n",
       "      <th>Country</th>\n",
       "      <th>Mapped_Position</th>\n",
       "      <th>both</th>\n",
       "      <th>left</th>\n",
       "      <th>right</th>\n",
       "    </tr>\n",
       "  </thead>\n",
       "  <tbody>\n",
       "    <tr>\n",
       "      <th>0</th>\n",
       "      <td>Marc-André ter Stegen</td>\n",
       "      <td>Goalkeeper</td>\n",
       "      <td>32</td>\n",
       "      <td>FC Barcelona</td>\n",
       "      <td>187</td>\n",
       "      <td>right</td>\n",
       "      <td>40</td>\n",
       "      <td>0</td>\n",
       "      <td>28000000</td>\n",
       "      <td>Germany</td>\n",
       "      <td>Gardien de but</td>\n",
       "      <td>False</td>\n",
       "      <td>False</td>\n",
       "      <td>True</td>\n",
       "    </tr>\n",
       "    <tr>\n",
       "      <th>1</th>\n",
       "      <td>Manuel Neuer</td>\n",
       "      <td>Goalkeeper</td>\n",
       "      <td>38</td>\n",
       "      <td>Bayern Munich</td>\n",
       "      <td>193</td>\n",
       "      <td>right</td>\n",
       "      <td>119</td>\n",
       "      <td>0</td>\n",
       "      <td>4000000</td>\n",
       "      <td>Germany</td>\n",
       "      <td>Gardien de but</td>\n",
       "      <td>False</td>\n",
       "      <td>False</td>\n",
       "      <td>True</td>\n",
       "    </tr>\n",
       "    <tr>\n",
       "      <th>2</th>\n",
       "      <td>Oliver Baumann</td>\n",
       "      <td>Goalkeeper</td>\n",
       "      <td>34</td>\n",
       "      <td>TSG 1899 Hoffenheim</td>\n",
       "      <td>187</td>\n",
       "      <td>right</td>\n",
       "      <td>0</td>\n",
       "      <td>0</td>\n",
       "      <td>3000000</td>\n",
       "      <td>Germany</td>\n",
       "      <td>Gardien de but</td>\n",
       "      <td>False</td>\n",
       "      <td>False</td>\n",
       "      <td>True</td>\n",
       "    </tr>\n",
       "    <tr>\n",
       "      <th>3</th>\n",
       "      <td>Nico Schlotterbeck</td>\n",
       "      <td>Centre-Back</td>\n",
       "      <td>24</td>\n",
       "      <td>Borussia Dortmund</td>\n",
       "      <td>191</td>\n",
       "      <td>left</td>\n",
       "      <td>12</td>\n",
       "      <td>0</td>\n",
       "      <td>40000000</td>\n",
       "      <td>Germany</td>\n",
       "      <td>Défenseur</td>\n",
       "      <td>False</td>\n",
       "      <td>True</td>\n",
       "      <td>False</td>\n",
       "    </tr>\n",
       "    <tr>\n",
       "      <th>4</th>\n",
       "      <td>Jonathan Tah</td>\n",
       "      <td>Centre-Back</td>\n",
       "      <td>28</td>\n",
       "      <td>Bayer 04 Leverkusen</td>\n",
       "      <td>195</td>\n",
       "      <td>right</td>\n",
       "      <td>25</td>\n",
       "      <td>0</td>\n",
       "      <td>30000000</td>\n",
       "      <td>Germany</td>\n",
       "      <td>Défenseur</td>\n",
       "      <td>False</td>\n",
       "      <td>False</td>\n",
       "      <td>True</td>\n",
       "    </tr>\n",
       "  </tbody>\n",
       "</table>\n",
       "</div>"
      ],
      "text/plain": [
       "                    Name     Position  Age                 Club  Height  \\\n",
       "0  Marc-André ter Stegen   Goalkeeper   32         FC Barcelona     187   \n",
       "1           Manuel Neuer   Goalkeeper   38        Bayern Munich     193   \n",
       "2         Oliver Baumann   Goalkeeper   34  TSG 1899 Hoffenheim     187   \n",
       "3     Nico Schlotterbeck  Centre-Back   24    Borussia Dortmund     191   \n",
       "4           Jonathan Tah  Centre-Back   28  Bayer 04 Leverkusen     195   \n",
       "\n",
       "    Foot  Caps  Goals  MarketValue  Country Mapped_Position   both   left  \\\n",
       "0  right    40      0     28000000  Germany  Gardien de but  False  False   \n",
       "1  right   119      0      4000000  Germany  Gardien de but  False  False   \n",
       "2  right     0      0      3000000  Germany  Gardien de but  False  False   \n",
       "3   left    12      0     40000000  Germany       Défenseur  False   True   \n",
       "4  right    25      0     30000000  Germany       Défenseur  False  False   \n",
       "\n",
       "   right  \n",
       "0   True  \n",
       "1   True  \n",
       "2   True  \n",
       "3  False  \n",
       "4   True  "
      ]
     },
     "execution_count": 264,
     "metadata": {},
     "output_type": "execute_result"
    }
   ],
   "source": [
    "# Application du mapping des positions\n",
    "foot_df['Mapped_Position'] = foot_df['Position'].map(position_mapping)\n",
    "\n",
    "#Utiliser pd.get_dummies() pour créer les colonnes dummies\n",
    "dummies_foot = pd.get_dummies(foot_df['Foot'], drop_first=True)\n",
    "\n",
    "\n",
    "#Concat dummies with general DF : \n",
    "foot_df = pd.concat([foot_df, dummies_foot ], axis=1)\n",
    "foot_df.head(5)"
   ]
  },
  {
   "cell_type": "code",
   "execution_count": 265,
   "metadata": {},
   "outputs": [
    {
     "data": {
      "text/plain": [
       "(620, 14)"
      ]
     },
     "execution_count": 265,
     "metadata": {},
     "output_type": "execute_result"
    }
   ],
   "source": [
    "foot_df = foot_df.dropna()\n",
    "foot_df.shape"
   ]
  },
  {
   "cell_type": "code",
   "execution_count": 266,
   "metadata": {},
   "outputs": [],
   "source": [
    "# DF to CSV for Tableau vis\n",
    "foot_df.to_csv('foot.csv', sep=',', index=False)"
   ]
  },
  {
   "cell_type": "code",
   "execution_count": 267,
   "metadata": {},
   "outputs": [
    {
     "data": {
      "image/png": "[encoded data removed]",
      "text/plain": [
       "<Figure size 1200x600 with 1 Axes>"
      ]
     },
     "metadata": {},
     "output_type": "display_data"
    }
   ],
   "source": [
    "# Analyse bivariée (relation entre les variables et la position)\n",
    "plt.figure(figsize=(12, 6))\n",
    "sns.boxplot(x='Caps', y='MarketValue', data=foot_df)\n",
    "plt.title('Height vs Position')\n",
    "plt.xticks(rotation=90)\n",
    "plt.show()"
   ]
  },
  {
   "cell_type": "code",
   "execution_count": 268,
   "metadata": {},
   "outputs": [
    {
     "data": {
      "image/png": "[encoded data removed]",
      "text/plain": [
       "<Figure size 1200x600 with 1 Axes>"
      ]
     },
     "metadata": {},
     "output_type": "display_data"
    }
   ],
   "source": [
    "\n",
    "# Barplot\n",
    "plt.figure(figsize=(12, 6))\n",
    "sns.barplot(x='Mapped_Position', y='MarketValue', data=foot_df)\n",
    "plt.title('Barplot de MarketValue par Mapped_Position')\n",
    "plt.show()"
   ]
  },
  {
   "cell_type": "code",
   "execution_count": 269,
   "metadata": {},
   "outputs": [
    {
     "data": {
      "text/html": [
       "<div>\n",
       "<style scoped>\n",
       "    .dataframe tbody tr th:only-of-type {\n",
       "        vertical-align: middle;\n",
       "    }\n",
       "\n",
       "    .dataframe tbody tr th {\n",
       "        vertical-align: top;\n",
       "    }\n",
       "\n",
       "    .dataframe thead th {\n",
       "        text-align: right;\n",
       "    }\n",
       "</style>\n",
       "<table border=\"1\" class=\"dataframe\">\n",
       "  <thead>\n",
       "    <tr style=\"text-align: right;\">\n",
       "      <th></th>\n",
       "      <th>Age</th>\n",
       "      <th>Height</th>\n",
       "      <th>Caps</th>\n",
       "      <th>Goals</th>\n",
       "      <th>MarketValue</th>\n",
       "    </tr>\n",
       "  </thead>\n",
       "  <tbody>\n",
       "    <tr>\n",
       "      <th>0</th>\n",
       "      <td>32</td>\n",
       "      <td>187</td>\n",
       "      <td>40</td>\n",
       "      <td>0</td>\n",
       "      <td>28000000</td>\n",
       "    </tr>\n",
       "    <tr>\n",
       "      <th>1</th>\n",
       "      <td>38</td>\n",
       "      <td>193</td>\n",
       "      <td>119</td>\n",
       "      <td>0</td>\n",
       "      <td>4000000</td>\n",
       "    </tr>\n",
       "    <tr>\n",
       "      <th>2</th>\n",
       "      <td>34</td>\n",
       "      <td>187</td>\n",
       "      <td>0</td>\n",
       "      <td>0</td>\n",
       "      <td>3000000</td>\n",
       "    </tr>\n",
       "    <tr>\n",
       "      <th>3</th>\n",
       "      <td>24</td>\n",
       "      <td>191</td>\n",
       "      <td>12</td>\n",
       "      <td>0</td>\n",
       "      <td>40000000</td>\n",
       "    </tr>\n",
       "    <tr>\n",
       "      <th>4</th>\n",
       "      <td>28</td>\n",
       "      <td>195</td>\n",
       "      <td>25</td>\n",
       "      <td>0</td>\n",
       "      <td>30000000</td>\n",
       "    </tr>\n",
       "    <tr>\n",
       "      <th>...</th>\n",
       "      <td>...</td>\n",
       "      <td>...</td>\n",
       "      <td>...</td>\n",
       "      <td>...</td>\n",
       "      <td>...</td>\n",
       "    </tr>\n",
       "    <tr>\n",
       "      <th>618</th>\n",
       "      <td>21</td>\n",
       "      <td>188</td>\n",
       "      <td>31</td>\n",
       "      <td>2</td>\n",
       "      <td>12000000</td>\n",
       "    </tr>\n",
       "    <tr>\n",
       "      <th>619</th>\n",
       "      <td>28</td>\n",
       "      <td>191</td>\n",
       "      <td>37</td>\n",
       "      <td>18</td>\n",
       "      <td>22000000</td>\n",
       "    </tr>\n",
       "    <tr>\n",
       "      <th>620</th>\n",
       "      <td>25</td>\n",
       "      <td>187</td>\n",
       "      <td>12</td>\n",
       "      <td>4</td>\n",
       "      <td>6500000</td>\n",
       "    </tr>\n",
       "    <tr>\n",
       "      <th>621</th>\n",
       "      <td>27</td>\n",
       "      <td>185</td>\n",
       "      <td>20</td>\n",
       "      <td>3</td>\n",
       "      <td>5000000</td>\n",
       "    </tr>\n",
       "    <tr>\n",
       "      <th>622</th>\n",
       "      <td>29</td>\n",
       "      <td>199</td>\n",
       "      <td>3</td>\n",
       "      <td>2</td>\n",
       "      <td>3200000</td>\n",
       "    </tr>\n",
       "  </tbody>\n",
       "</table>\n",
       "<p>620 rows × 5 columns</p>\n",
       "</div>"
      ],
      "text/plain": [
       "     Age  Height  Caps  Goals  MarketValue\n",
       "0     32     187    40      0     28000000\n",
       "1     38     193   119      0      4000000\n",
       "2     34     187     0      0      3000000\n",
       "3     24     191    12      0     40000000\n",
       "4     28     195    25      0     30000000\n",
       "..   ...     ...   ...    ...          ...\n",
       "618   21     188    31      2     12000000\n",
       "619   28     191    37     18     22000000\n",
       "620   25     187    12      4      6500000\n",
       "621   27     185    20      3      5000000\n",
       "622   29     199     3      2      3200000\n",
       "\n",
       "[620 rows x 5 columns]"
      ]
     },
     "execution_count": 269,
     "metadata": {},
     "output_type": "execute_result"
    }
   ],
   "source": [
    "num_foot_df = foot_df.select_dtypes(include=['number'])\n",
    "num_foot_df"
   ]
  },
  {
   "cell_type": "code",
   "execution_count": 270,
   "metadata": {},
   "outputs": [
    {
     "data": {
      "text/plain": [
       "<Axes: >"
      ]
     },
     "execution_count": 270,
     "metadata": {},
     "output_type": "execute_result"
    },
    {
     "data": {
      "image/png": "[encoded data removed]",
      "text/plain": [
       "<Figure size 600x500 with 2 Axes>"
      ]
     },
     "metadata": {},
     "output_type": "display_data"
    }
   ],
   "source": [
    "#check correlation between numerical value\n",
    "corr_matrix = num_foot_df.corr()\n",
    "\n",
    "plt.figure(figsize=(6, 5))  # Ajuster la taille de la figure pour une meilleure lisibilité\n",
    "sns.heatmap(corr_matrix, annot=True, cmap='coolwarm', fmt='.2f', linewidths=0.5)"
   ]
  },
  {
   "cell_type": "code",
   "execution_count": 271,
   "metadata": {},
   "outputs": [
    {
     "name": "stderr",
     "output_type": "stream",
     "text": [
      "C:\\Users\\User\\AppData\\Local\\Temp\\ipykernel_18396\\29969957.py:31: RuntimeWarning: invalid value encountered in scalar divide\n",
      "  return np.sqrt(phi2corr / min((kcorr-1), (rcorr-1)))\n",
      "C:\\Users\\User\\AppData\\Local\\Temp\\ipykernel_18396\\29969957.py:31: RuntimeWarning: invalid value encountered in scalar divide\n",
      "  return np.sqrt(phi2corr / min((kcorr-1), (rcorr-1)))\n",
      "C:\\Users\\User\\AppData\\Local\\Temp\\ipykernel_18396\\29969957.py:31: RuntimeWarning: invalid value encountered in scalar divide\n",
      "  return np.sqrt(phi2corr / min((kcorr-1), (rcorr-1)))\n",
      "C:\\Users\\User\\AppData\\Local\\Temp\\ipykernel_18396\\29969957.py:31: RuntimeWarning: invalid value encountered in scalar divide\n",
      "  return np.sqrt(phi2corr / min((kcorr-1), (rcorr-1)))\n",
      "C:\\Users\\User\\AppData\\Local\\Temp\\ipykernel_18396\\29969957.py:31: RuntimeWarning: invalid value encountered in scalar divide\n",
      "  return np.sqrt(phi2corr / min((kcorr-1), (rcorr-1)))\n"
     ]
    },
    {
     "data": {
      "image/png": "[encoded data removed]",
      "text/plain": [
       "<Figure size 800x600 with 2 Axes>"
      ]
     },
     "metadata": {},
     "output_type": "display_data"
    }
   ],
   "source": [
    "#show correlation between categorical variable\n",
    "from itertools import combinations\n",
    "from scipy.stats import chi2_contingency\n",
    "import scipy.stats as ss\n",
    "import seaborn as sns\n",
    "import matplotlib.pyplot as plt\n",
    "\n",
    "def get_corr_mat(foot_df, f=chi2_contingency):\n",
    "        columns = foot_df.columns\n",
    "        dm = pd.DataFrame(index=columns, columns=columns)\n",
    "        for var1, var2 in combinations(columns, 2):\n",
    "            cont_table = pd.crosstab(foot_df[var1], foot_df[var2], margins=False)\n",
    "            chi2_stat = cramers_v(cont_table.values)\n",
    "            dm.loc[var2, var1] = chi2_stat\n",
    "            dm.loc[var1, var2] = chi2_stat\n",
    "        dm.fillna(1, inplace=True)\n",
    "        return dm\n",
    "\n",
    "def cramers_v(confusion_matrix):\n",
    "        \"\"\" calculate Cramers V statistic for categorial-categorial association.\n",
    "            uses correction from Bergsma and Wicher,\n",
    "            Journal of the Korean Statistical Society 42 (2013): 323-328\n",
    "        \"\"\"\n",
    "        chi2 = ss.chi2_contingency(confusion_matrix)[0]\n",
    "        n = confusion_matrix.sum()\n",
    "        phi2 = chi2 / n\n",
    "        r, k = confusion_matrix.shape\n",
    "        phi2corr = max(0, phi2 - ((k-1)*(r-1))/(n-1))\n",
    "        rcorr = r - ((r-1)**2)/(n-1)\n",
    "        kcorr = k - ((k-1)**2)/(n-1)\n",
    "        return np.sqrt(phi2corr / min((kcorr-1), (rcorr-1)))\n",
    "\n",
    "df_categorical = foot_df.select_dtypes(include=[object,'category'])\n",
    "\n",
    "cat_corr= get_corr_mat(df_categorical)\n",
    "fig, ax = plt.subplots(figsize=(8,6))\n",
    "le_mask = np.triu(np.ones_like(cat_corr),1)\n",
    "sns.heatmap(cat_corr, annot = True, cmap='Greens', mask=le_mask)\n",
    "plt.show()"
   ]
  },
  {
   "cell_type": "code",
   "execution_count": 272,
   "metadata": {},
   "outputs": [],
   "source": [
    "# Predicting a player's position based on characteristics such as height, foot (right/left), age, goals, and market value.\n",
    "\n",
    "car = ['Age','Height','Goals','Caps']\n",
    "features = foot_df[car]\n",
    "target = foot_df['Mapped_Position']"
   ]
  },
  {
   "cell_type": "code",
   "execution_count": 273,
   "metadata": {},
   "outputs": [],
   "source": [
    "X_train, X_test, y_train, y_test = train_test_split(features, target, test_size=0.20, random_state=42)"
   ]
  },
  {
   "cell_type": "code",
   "execution_count": 274,
   "metadata": {},
   "outputs": [],
   "source": [
    "#KNN Classifier\n",
    "knn = KNeighborsClassifier(n_neighbors=10)"
   ]
  },
  {
   "cell_type": "code",
   "execution_count": 275,
   "metadata": {},
   "outputs": [
    {
     "data": {
      "text/html": [
       "<style>#sk-container-id-21 {color: black;background-color: white;}#sk-container-id-21 pre{padding: 0;}#sk-container-id-21 div.sk-toggleable {background-color: white;}#sk-container-id-21 label.sk-toggleable__label {cursor: pointer;display: block;width: 100%;margin-bottom: 0;padding: 0.3em;box-sizing: border-box;text-align: center;}#sk-container-id-21 label.sk-toggleable__label-arrow:before {content: \"▸\";float: left;margin-right: 0.25em;color: #696969;}#sk-container-id-21 label.sk-toggleable__label-arrow:hover:before {color: black;}#sk-container-id-21 div.sk-estimator:hover label.sk-toggleable__label-arrow:before {color: black;}#sk-container-id-21 div.sk-toggleable__content {max-height: 0;max-width: 0;overflow: hidden;text-align: left;background-color: #f0f8ff;}#sk-container-id-21 div.sk-toggleable__content pre {margin: 0.2em;color: black;border-radius: 0.25em;background-color: #f0f8ff;}#sk-container-id-21 input.sk-toggleable__control:checked~div.sk-toggleable__content {max-height: 200px;max-width: 100%;overflow: auto;}#sk-container-id-21 input.sk-toggleable__control:checked~label.sk-toggleable__label-arrow:before {content: \"▾\";}#sk-container-id-21 div.sk-estimator input.sk-toggleable__control:checked~label.sk-toggleable__label {background-color: #d4ebff;}#sk-container-id-21 div.sk-label input.sk-toggleable__control:checked~label.sk-toggleable__label {background-color: #d4ebff;}#sk-container-id-21 input.sk-hidden--visually {border: 0;clip: rect(1px 1px 1px 1px);clip: rect(1px, 1px, 1px, 1px);height: 1px;margin: -1px;overflow: hidden;padding: 0;position: absolute;width: 1px;}#sk-container-id-21 div.sk-estimator {font-family: monospace;background-color: #f0f8ff;border: 1px dotted black;border-radius: 0.25em;box-sizing: border-box;margin-bottom: 0.5em;}#sk-container-id-21 div.sk-estimator:hover {background-color: #d4ebff;}#sk-container-id-21 div.sk-parallel-item::after {content: \"\";width: 100%;border-bottom: 1px solid gray;flex-grow: 1;}#sk-container-id-21 div.sk-label:hover label.sk-toggleable__label {background-color: #d4ebff;}#sk-container-id-21 div.sk-serial::before {content: \"\";position: absolute;border-left: 1px solid gray;box-sizing: border-box;top: 0;bottom: 0;left: 50%;z-index: 0;}#sk-container-id-21 div.sk-serial {display: flex;flex-direction: column;align-items: center;background-color: white;padding-right: 0.2em;padding-left: 0.2em;position: relative;}#sk-container-id-21 div.sk-item {position: relative;z-index: 1;}#sk-container-id-21 div.sk-parallel {display: flex;align-items: stretch;justify-content: center;background-color: white;position: relative;}#sk-container-id-21 div.sk-item::before, #sk-container-id-21 div.sk-parallel-item::before {content: \"\";position: absolute;border-left: 1px solid gray;box-sizing: border-box;top: 0;bottom: 0;left: 50%;z-index: -1;}#sk-container-id-21 div.sk-parallel-item {display: flex;flex-direction: column;z-index: 1;position: relative;background-color: white;}#sk-container-id-21 div.sk-parallel-item:first-child::after {align-self: flex-end;width: 50%;}#sk-container-id-21 div.sk-parallel-item:last-child::after {align-self: flex-start;width: 50%;}#sk-container-id-21 div.sk-parallel-item:only-child::after {width: 0;}#sk-container-id-21 div.sk-dashed-wrapped {border: 1px dashed gray;margin: 0 0.4em 0.5em 0.4em;box-sizing: border-box;padding-bottom: 0.4em;background-color: white;}#sk-container-id-21 div.sk-label label {font-family: monospace;font-weight: bold;display: inline-block;line-height: 1.2em;}#sk-container-id-21 div.sk-label-container {text-align: center;}#sk-container-id-21 div.sk-container {/* jupyter's `normalize.less` sets `[hidden] { display: none; }` but bootstrap.min.css set `[hidden] { display: none !important; }` so we also need the `!important` here to be able to override the default hidden behavior on the sphinx rendered scikit-learn.org. See: https://github.com/scikit-learn/scikit-learn/issues/21755 */display: inline-block !important;position: relative;}#sk-container-id-21 div.sk-text-repr-fallback {display: none;}</style><div id=\"sk-container-id-21\" class=\"sk-top-container\"><div class=\"sk-text-repr-fallback\"><pre>KNeighborsClassifier(n_neighbors=10)</pre><b>In a Jupyter environment, please rerun this cell to show the HTML representation or trust the notebook. <br />On GitHub, the HTML representation is unable to render, please try loading this page with nbviewer.org.</b></div><div class=\"sk-container\" hidden><div class=\"sk-item\"><div class=\"sk-estimator sk-toggleable\"><input class=\"sk-toggleable__control sk-hidden--visually\" id=\"sk-estimator-id-21\" type=\"checkbox\" checked><label for=\"sk-estimator-id-21\" class=\"sk-toggleable__label sk-toggleable__label-arrow\">KNeighborsClassifier</label><div class=\"sk-toggleable__content\"><pre>KNeighborsClassifier(n_neighbors=10)</pre></div></div></div></div></div>"
      ],
      "text/plain": [
       "KNeighborsClassifier(n_neighbors=10)"
      ]
     },
     "execution_count": 275,
     "metadata": {},
     "output_type": "execute_result"
    }
   ],
   "source": [
    "knn.fit(X_train, y_train)"
   ]
  },
  {
   "cell_type": "code",
   "execution_count": 276,
   "metadata": {},
   "outputs": [
    {
     "data": {
      "text/plain": [
       "0.4032258064516129"
      ]
     },
     "execution_count": 276,
     "metadata": {},
     "output_type": "execute_result"
    }
   ],
   "source": [
    "knn.score(X_test, y_test)"
   ]
  },
  {
   "cell_type": "code",
   "execution_count": 277,
   "metadata": {},
   "outputs": [],
   "source": [
    " # lets try with scaling the data \n",
    "from sklearn.preprocessing import MinMaxScaler \n",
    "scaler = MinMaxScaler()"
   ]
  },
  {
   "cell_type": "code",
   "execution_count": 278,
   "metadata": {},
   "outputs": [],
   "source": [
    "X_train_scaled = scaler.fit_transform(X_train)\n",
    "X_test_scaled = scaler.transform (X_test)"
   ]
  },
  {
   "cell_type": "code",
   "execution_count": 279,
   "metadata": {},
   "outputs": [
    {
     "data": {
      "text/html": [
       "<style>#sk-container-id-22 {color: black;background-color: white;}#sk-container-id-22 pre{padding: 0;}#sk-container-id-22 div.sk-toggleable {background-color: white;}#sk-container-id-22 label.sk-toggleable__label {cursor: pointer;display: block;width: 100%;margin-bottom: 0;padding: 0.3em;box-sizing: border-box;text-align: center;}#sk-container-id-22 label.sk-toggleable__label-arrow:before {content: \"▸\";float: left;margin-right: 0.25em;color: #696969;}#sk-container-id-22 label.sk-toggleable__label-arrow:hover:before {color: black;}#sk-container-id-22 div.sk-estimator:hover label.sk-toggleable__label-arrow:before {color: black;}#sk-container-id-22 div.sk-toggleable__content {max-height: 0;max-width: 0;overflow: hidden;text-align: left;background-color: #f0f8ff;}#sk-container-id-22 div.sk-toggleable__content pre {margin: 0.2em;color: black;border-radius: 0.25em;background-color: #f0f8ff;}#sk-container-id-22 input.sk-toggleable__control:checked~div.sk-toggleable__content {max-height: 200px;max-width: 100%;overflow: auto;}#sk-container-id-22 input.sk-toggleable__control:checked~label.sk-toggleable__label-arrow:before {content: \"▾\";}#sk-container-id-22 div.sk-estimator input.sk-toggleable__control:checked~label.sk-toggleable__label {background-color: #d4ebff;}#sk-container-id-22 div.sk-label input.sk-toggleable__control:checked~label.sk-toggleable__label {background-color: #d4ebff;}#sk-container-id-22 input.sk-hidden--visually {border: 0;clip: rect(1px 1px 1px 1px);clip: rect(1px, 1px, 1px, 1px);height: 1px;margin: -1px;overflow: hidden;padding: 0;position: absolute;width: 1px;}#sk-container-id-22 div.sk-estimator {font-family: monospace;background-color: #f0f8ff;border: 1px dotted black;border-radius: 0.25em;box-sizing: border-box;margin-bottom: 0.5em;}#sk-container-id-22 div.sk-estimator:hover {background-color: #d4ebff;}#sk-container-id-22 div.sk-parallel-item::after {content: \"\";width: 100%;border-bottom: 1px solid gray;flex-grow: 1;}#sk-container-id-22 div.sk-label:hover label.sk-toggleable__label {background-color: #d4ebff;}#sk-container-id-22 div.sk-serial::before {content: \"\";position: absolute;border-left: 1px solid gray;box-sizing: border-box;top: 0;bottom: 0;left: 50%;z-index: 0;}#sk-container-id-22 div.sk-serial {display: flex;flex-direction: column;align-items: center;background-color: white;padding-right: 0.2em;padding-left: 0.2em;position: relative;}#sk-container-id-22 div.sk-item {position: relative;z-index: 1;}#sk-container-id-22 div.sk-parallel {display: flex;align-items: stretch;justify-content: center;background-color: white;position: relative;}#sk-container-id-22 div.sk-item::before, #sk-container-id-22 div.sk-parallel-item::before {content: \"\";position: absolute;border-left: 1px solid gray;box-sizing: border-box;top: 0;bottom: 0;left: 50%;z-index: -1;}#sk-container-id-22 div.sk-parallel-item {display: flex;flex-direction: column;z-index: 1;position: relative;background-color: white;}#sk-container-id-22 div.sk-parallel-item:first-child::after {align-self: flex-end;width: 50%;}#sk-container-id-22 div.sk-parallel-item:last-child::after {align-self: flex-start;width: 50%;}#sk-container-id-22 div.sk-parallel-item:only-child::after {width: 0;}#sk-container-id-22 div.sk-dashed-wrapped {border: 1px dashed gray;margin: 0 0.4em 0.5em 0.4em;box-sizing: border-box;padding-bottom: 0.4em;background-color: white;}#sk-container-id-22 div.sk-label label {font-family: monospace;font-weight: bold;display: inline-block;line-height: 1.2em;}#sk-container-id-22 div.sk-label-container {text-align: center;}#sk-container-id-22 div.sk-container {/* jupyter's `normalize.less` sets `[hidden] { display: none; }` but bootstrap.min.css set `[hidden] { display: none !important; }` so we also need the `!important` here to be able to override the default hidden behavior on the sphinx rendered scikit-learn.org. See: https://github.com/scikit-learn/scikit-learn/issues/21755 */display: inline-block !important;position: relative;}#sk-container-id-22 div.sk-text-repr-fallback {display: none;}</style><div id=\"sk-container-id-22\" class=\"sk-top-container\"><div class=\"sk-text-repr-fallback\"><pre>KNeighborsClassifier(n_neighbors=10)</pre><b>In a Jupyter environment, please rerun this cell to show the HTML representation or trust the notebook. <br />On GitHub, the HTML representation is unable to render, please try loading this page with nbviewer.org.</b></div><div class=\"sk-container\" hidden><div class=\"sk-item\"><div class=\"sk-estimator sk-toggleable\"><input class=\"sk-toggleable__control sk-hidden--visually\" id=\"sk-estimator-id-22\" type=\"checkbox\" checked><label for=\"sk-estimator-id-22\" class=\"sk-toggleable__label sk-toggleable__label-arrow\">KNeighborsClassifier</label><div class=\"sk-toggleable__content\"><pre>KNeighborsClassifier(n_neighbors=10)</pre></div></div></div></div></div>"
      ],
      "text/plain": [
       "KNeighborsClassifier(n_neighbors=10)"
      ]
     },
     "execution_count": 279,
     "metadata": {},
     "output_type": "execute_result"
    }
   ],
   "source": [
    "knn.fit(X_train_scaled,y_train)"
   ]
  },
  {
   "cell_type": "code",
   "execution_count": 280,
   "metadata": {},
   "outputs": [
    {
     "data": {
      "text/plain": [
       "0.45161290322580644"
      ]
     },
     "execution_count": 280,
     "metadata": {},
     "output_type": "execute_result"
    }
   ],
   "source": [
    "knn.score(X_test_scaled,y_test)"
   ]
  },
  {
   "cell_type": "code",
   "execution_count": 281,
   "metadata": {},
   "outputs": [],
   "source": [
    "#perform all model classifier : \n",
    "def evaluate_models(models, X_train, X_test, y_train, y_test):\n",
    "    \"\"\"\n",
    "    Évalue plusieurs modèles de machine learning et renvoie un DataFrame avec les scores.\n",
    "\n",
    "    Parameters:\n",
    "    models (dict): Dictionnaire contenant les modèles de machine learning à évaluer.\n",
    "    X_train (DataFrame): Données d'entraînement.\n",
    "    X_test (DataFrame): Données de test.\n",
    "    y_train (Series): Étiquettes d'entraînement.\n",
    "    y_test (Series): Étiquettes de test.\n",
    "\n",
    "    Returns:\n",
    "    DataFrame: DataFrame contenant les scores des modèles.\n",
    "    \"\"\"\n",
    "    results = []\n",
    "\n",
    "    for name, model in models.items():\n",
    "        model.fit(X_train_scaled, y_train)\n",
    "        y_pred = model.predict(X_test_scaled)\n",
    "\n",
    "        accuracy = accuracy_score(y_test, y_pred)\n",
    "        precision = precision_score(y_test, y_pred, average='weighted')\n",
    "        recall = recall_score(y_test, y_pred, average='weighted')\n",
    "        f1 = f1_score(y_test, y_pred, average='weighted')\n",
    "\n",
    "        results.append({\n",
    "            'Model': name,\n",
    "            'Accuracy': accuracy,\n",
    "            'Precision': precision,\n",
    "            'Recall': recall,\n",
    "            'F1 Score': f1\n",
    "        })\n",
    "\n",
    "    results_df = pd.DataFrame(results)\n",
    "    return results_df\n"
   ]
  },
  {
   "cell_type": "code",
   "execution_count": 282,
   "metadata": {},
   "outputs": [
    {
     "data": {
      "text/html": [
       "<div>\n",
       "<style scoped>\n",
       "    .dataframe tbody tr th:only-of-type {\n",
       "        vertical-align: middle;\n",
       "    }\n",
       "\n",
       "    .dataframe tbody tr th {\n",
       "        vertical-align: top;\n",
       "    }\n",
       "\n",
       "    .dataframe thead th {\n",
       "        text-align: right;\n",
       "    }\n",
       "</style>\n",
       "<table border=\"1\" class=\"dataframe\">\n",
       "  <thead>\n",
       "    <tr style=\"text-align: right;\">\n",
       "      <th></th>\n",
       "      <th>Model</th>\n",
       "      <th>Accuracy</th>\n",
       "      <th>Precision</th>\n",
       "      <th>Recall</th>\n",
       "      <th>F1 Score</th>\n",
       "    </tr>\n",
       "  </thead>\n",
       "  <tbody>\n",
       "    <tr>\n",
       "      <th>0</th>\n",
       "      <td>Baggin Classifier</td>\n",
       "      <td>0.451613</td>\n",
       "      <td>0.482884</td>\n",
       "      <td>0.451613</td>\n",
       "      <td>0.458479</td>\n",
       "    </tr>\n",
       "    <tr>\n",
       "      <th>1</th>\n",
       "      <td>Random Forest</td>\n",
       "      <td>0.508065</td>\n",
       "      <td>0.521852</td>\n",
       "      <td>0.508065</td>\n",
       "      <td>0.508726</td>\n",
       "    </tr>\n",
       "    <tr>\n",
       "      <th>2</th>\n",
       "      <td>Ada Boost</td>\n",
       "      <td>0.435484</td>\n",
       "      <td>0.466406</td>\n",
       "      <td>0.435484</td>\n",
       "      <td>0.437883</td>\n",
       "    </tr>\n",
       "    <tr>\n",
       "      <th>3</th>\n",
       "      <td>Gardient Boosting</td>\n",
       "      <td>0.475806</td>\n",
       "      <td>0.494323</td>\n",
       "      <td>0.475806</td>\n",
       "      <td>0.476537</td>\n",
       "    </tr>\n",
       "    <tr>\n",
       "      <th>4</th>\n",
       "      <td>KNeighbors Classifier</td>\n",
       "      <td>0.451613</td>\n",
       "      <td>0.465351</td>\n",
       "      <td>0.451613</td>\n",
       "      <td>0.452937</td>\n",
       "    </tr>\n",
       "  </tbody>\n",
       "</table>\n",
       "</div>"
      ],
      "text/plain": [
       "                   Model  Accuracy  Precision    Recall  F1 Score\n",
       "0      Baggin Classifier  0.451613   0.482884  0.451613  0.458479\n",
       "1          Random Forest  0.508065   0.521852  0.508065  0.508726\n",
       "2              Ada Boost  0.435484   0.466406  0.435484  0.437883\n",
       "3      Gardient Boosting  0.475806   0.494323  0.475806  0.476537\n",
       "4  KNeighbors Classifier  0.451613   0.465351  0.451613  0.452937"
      ]
     },
     "metadata": {},
     "output_type": "display_data"
    }
   ],
   "source": [
    "models = {\n",
    "    'Baggin Classifier': BaggingClassifier(DecisionTreeClassifier(max_depth=20),\n",
    "                               n_estimators=100,\n",
    "                               max_samples = 100,\n",
    "                               random_state=42),\n",
    "    'Random Forest': RandomForestClassifier(n_estimators=100,\n",
    "                             max_depth=20,\n",
    "                             random_state=0),\n",
    "    'Ada Boost': AdaBoostClassifier(DecisionTreeClassifier(max_depth=20),\n",
    "                            n_estimators=100,\n",
    "                            random_state=42),\n",
    "    'Gardient Boosting': GradientBoostingClassifier(max_depth=20,\n",
    "                                   n_estimators=100,\n",
    "                                   random_state=42),\n",
    "    'KNeighbors Classifier' : KNeighborsClassifier(n_neighbors=10)\n",
    "                    \n",
    "}\n",
    "\n",
    "# Assurez-vous d'avoir déjà défini X_train, X_test, y_train, y_test\n",
    "results_df = evaluate_models(models, X_train, X_test, y_train, y_test)\n",
    "display(results_df)"
   ]
  },
  {
   "cell_type": "code",
   "execution_count": 283,
   "metadata": {},
   "outputs": [
    {
     "data": {
      "text/plain": [
       "<Axes: xlabel='Mapped_Position', ylabel='count'>"
      ]
     },
     "execution_count": 283,
     "metadata": {},
     "output_type": "execute_result"
    },
    {
     "data": {
      "image/png": "[encoded data removed]",
      "text/plain": [
       "<Figure size 640x480 with 1 Axes>"
      ]
     },
     "metadata": {},
     "output_type": "display_data"
    }
   ],
   "source": [
    "sns.barplot(target.value_counts())"
   ]
  },
  {
   "cell_type": "code",
   "execution_count": 284,
   "metadata": {},
   "outputs": [],
   "source": [
    "train = pd.DataFrame(X_train_scaled, columns = X_train.columns)"
   ]
  },
  {
   "cell_type": "code",
   "execution_count": 285,
   "metadata": {},
   "outputs": [],
   "source": [
    "train[\"target\"] = y_train.values"
   ]
  },
  {
   "cell_type": "code",
   "execution_count": 286,
   "metadata": {},
   "outputs": [],
   "source": [
    "defenseur = train[train[\"target\"] == 'Défenseur']\n",
    "milieu = train[train[\"target\"] == 'Milieu de terrain']\n",
    "attaquant = train[train[\"target\"] == 'Attaquant']\n",
    "gardien = train[train[\"target\"] == 'Gardien de but']"
   ]
  },
  {
   "cell_type": "code",
   "execution_count": 287,
   "metadata": {},
   "outputs": [],
   "source": [
    "# 1 fonction par position\n",
    "milieu_oversampled = resample(milieu, \n",
    "                                    replace=True, \n",
    "                                    n_samples = len(defenseur), \n",
    "                                    random_state=0)\n",
    "gardien_oversampled = resample(gardien, \n",
    "                                    replace=True, \n",
    "                                    n_samples = len(defenseur), \n",
    "                                    random_state=0)\n",
    "attaquant_oversampled = resample(attaquant, \n",
    "                                    replace=True, \n",
    "                                    n_samples = len(defenseur), \n",
    "                                    random_state=0)"
   ]
  },
  {
   "cell_type": "code",
   "execution_count": 288,
   "metadata": {},
   "outputs": [
    {
     "data": {
      "text/html": [
       "<div>\n",
       "<style scoped>\n",
       "    .dataframe tbody tr th:only-of-type {\n",
       "        vertical-align: middle;\n",
       "    }\n",
       "\n",
       "    .dataframe tbody tr th {\n",
       "        vertical-align: top;\n",
       "    }\n",
       "\n",
       "    .dataframe thead th {\n",
       "        text-align: right;\n",
       "    }\n",
       "</style>\n",
       "<table border=\"1\" class=\"dataframe\">\n",
       "  <thead>\n",
       "    <tr style=\"text-align: right;\">\n",
       "      <th></th>\n",
       "      <th>Age</th>\n",
       "      <th>Height</th>\n",
       "      <th>Goals</th>\n",
       "      <th>Caps</th>\n",
       "      <th>target</th>\n",
       "    </tr>\n",
       "  </thead>\n",
       "  <tbody>\n",
       "    <tr>\n",
       "      <th>133</th>\n",
       "      <td>0.60</td>\n",
       "      <td>0.400000</td>\n",
       "      <td>0.054688</td>\n",
       "      <td>0.461165</td>\n",
       "      <td>Milieu de terrain</td>\n",
       "    </tr>\n",
       "    <tr>\n",
       "      <th>361</th>\n",
       "      <td>0.72</td>\n",
       "      <td>0.657143</td>\n",
       "      <td>0.000000</td>\n",
       "      <td>0.135922</td>\n",
       "      <td>Milieu de terrain</td>\n",
       "    </tr>\n",
       "    <tr>\n",
       "      <th>210</th>\n",
       "      <td>0.44</td>\n",
       "      <td>0.400000</td>\n",
       "      <td>0.015625</td>\n",
       "      <td>0.262136</td>\n",
       "      <td>Milieu de terrain</td>\n",
       "    </tr>\n",
       "    <tr>\n",
       "      <th>324</th>\n",
       "      <td>0.52</td>\n",
       "      <td>0.342857</td>\n",
       "      <td>0.171875</td>\n",
       "      <td>0.315534</td>\n",
       "      <td>Milieu de terrain</td>\n",
       "    </tr>\n",
       "    <tr>\n",
       "      <th>32</th>\n",
       "      <td>0.12</td>\n",
       "      <td>0.457143</td>\n",
       "      <td>0.000000</td>\n",
       "      <td>0.004854</td>\n",
       "      <td>Milieu de terrain</td>\n",
       "    </tr>\n",
       "    <tr>\n",
       "      <th>...</th>\n",
       "      <td>...</td>\n",
       "      <td>...</td>\n",
       "      <td>...</td>\n",
       "      <td>...</td>\n",
       "      <td>...</td>\n",
       "    </tr>\n",
       "    <tr>\n",
       "      <th>462</th>\n",
       "      <td>0.28</td>\n",
       "      <td>0.114286</td>\n",
       "      <td>0.007812</td>\n",
       "      <td>0.077670</td>\n",
       "      <td>Attaquant</td>\n",
       "    </tr>\n",
       "    <tr>\n",
       "      <th>176</th>\n",
       "      <td>0.28</td>\n",
       "      <td>0.257143</td>\n",
       "      <td>0.070312</td>\n",
       "      <td>0.116505</td>\n",
       "      <td>Attaquant</td>\n",
       "    </tr>\n",
       "    <tr>\n",
       "      <th>482</th>\n",
       "      <td>0.36</td>\n",
       "      <td>0.342857</td>\n",
       "      <td>0.054688</td>\n",
       "      <td>0.203883</td>\n",
       "      <td>Attaquant</td>\n",
       "    </tr>\n",
       "    <tr>\n",
       "      <th>108</th>\n",
       "      <td>0.40</td>\n",
       "      <td>0.571429</td>\n",
       "      <td>0.085938</td>\n",
       "      <td>0.223301</td>\n",
       "      <td>Attaquant</td>\n",
       "    </tr>\n",
       "    <tr>\n",
       "      <th>263</th>\n",
       "      <td>0.48</td>\n",
       "      <td>0.371429</td>\n",
       "      <td>0.015625</td>\n",
       "      <td>0.150485</td>\n",
       "      <td>Attaquant</td>\n",
       "    </tr>\n",
       "  </tbody>\n",
       "</table>\n",
       "<p>632 rows × 5 columns</p>\n",
       "</div>"
      ],
      "text/plain": [
       "      Age    Height     Goals      Caps             target\n",
       "133  0.60  0.400000  0.054688  0.461165  Milieu de terrain\n",
       "361  0.72  0.657143  0.000000  0.135922  Milieu de terrain\n",
       "210  0.44  0.400000  0.015625  0.262136  Milieu de terrain\n",
       "324  0.52  0.342857  0.171875  0.315534  Milieu de terrain\n",
       "32   0.12  0.457143  0.000000  0.004854  Milieu de terrain\n",
       "..    ...       ...       ...       ...                ...\n",
       "462  0.28  0.114286  0.007812  0.077670          Attaquant\n",
       "176  0.28  0.257143  0.070312  0.116505          Attaquant\n",
       "482  0.36  0.342857  0.054688  0.203883          Attaquant\n",
       "108  0.40  0.571429  0.085938  0.223301          Attaquant\n",
       "263  0.48  0.371429  0.015625  0.150485          Attaquant\n",
       "\n",
       "[632 rows x 5 columns]"
      ]
     },
     "execution_count": 288,
     "metadata": {},
     "output_type": "execute_result"
    }
   ],
   "source": [
    "train_over = pd.concat([milieu_oversampled, defenseur, gardien_oversampled, attaquant_oversampled ])\n",
    "train_over"
   ]
  },
  {
   "cell_type": "code",
   "execution_count": 289,
   "metadata": {},
   "outputs": [
    {
     "data": {
      "image/png": "[encoded data removed]",
      "text/plain": [
       "<Figure size 640x480 with 1 Axes>"
      ]
     },
     "metadata": {},
     "output_type": "display_data"
    }
   ],
   "source": [
    "survived_plt = train_over[\"target\"].value_counts()\n",
    "survived_plt.plot(kind=\"bar\")\n",
    "plt.show()"
   ]
  },
  {
   "cell_type": "code",
   "execution_count": 290,
   "metadata": {},
   "outputs": [],
   "source": [
    "X_train_over = train_over.drop(columns = [\"target\"])\n",
    "y_train_over = train_over[\"target\"]"
   ]
  },
  {
   "cell_type": "code",
   "execution_count": 291,
   "metadata": {},
   "outputs": [
    {
     "data": {
      "text/html": [
       "<style>#sk-container-id-23 {color: black;background-color: white;}#sk-container-id-23 pre{padding: 0;}#sk-container-id-23 div.sk-toggleable {background-color: white;}#sk-container-id-23 label.sk-toggleable__label {cursor: pointer;display: block;width: 100%;margin-bottom: 0;padding: 0.3em;box-sizing: border-box;text-align: center;}#sk-container-id-23 label.sk-toggleable__label-arrow:before {content: \"▸\";float: left;margin-right: 0.25em;color: #696969;}#sk-container-id-23 label.sk-toggleable__label-arrow:hover:before {color: black;}#sk-container-id-23 div.sk-estimator:hover label.sk-toggleable__label-arrow:before {color: black;}#sk-container-id-23 div.sk-toggleable__content {max-height: 0;max-width: 0;overflow: hidden;text-align: left;background-color: #f0f8ff;}#sk-container-id-23 div.sk-toggleable__content pre {margin: 0.2em;color: black;border-radius: 0.25em;background-color: #f0f8ff;}#sk-container-id-23 input.sk-toggleable__control:checked~div.sk-toggleable__content {max-height: 200px;max-width: 100%;overflow: auto;}#sk-container-id-23 input.sk-toggleable__control:checked~label.sk-toggleable__label-arrow:before {content: \"▾\";}#sk-container-id-23 div.sk-estimator input.sk-toggleable__control:checked~label.sk-toggleable__label {background-color: #d4ebff;}#sk-container-id-23 div.sk-label input.sk-toggleable__control:checked~label.sk-toggleable__label {background-color: #d4ebff;}#sk-container-id-23 input.sk-hidden--visually {border: 0;clip: rect(1px 1px 1px 1px);clip: rect(1px, 1px, 1px, 1px);height: 1px;margin: -1px;overflow: hidden;padding: 0;position: absolute;width: 1px;}#sk-container-id-23 div.sk-estimator {font-family: monospace;background-color: #f0f8ff;border: 1px dotted black;border-radius: 0.25em;box-sizing: border-box;margin-bottom: 0.5em;}#sk-container-id-23 div.sk-estimator:hover {background-color: #d4ebff;}#sk-container-id-23 div.sk-parallel-item::after {content: \"\";width: 100%;border-bottom: 1px solid gray;flex-grow: 1;}#sk-container-id-23 div.sk-label:hover label.sk-toggleable__label {background-color: #d4ebff;}#sk-container-id-23 div.sk-serial::before {content: \"\";position: absolute;border-left: 1px solid gray;box-sizing: border-box;top: 0;bottom: 0;left: 50%;z-index: 0;}#sk-container-id-23 div.sk-serial {display: flex;flex-direction: column;align-items: center;background-color: white;padding-right: 0.2em;padding-left: 0.2em;position: relative;}#sk-container-id-23 div.sk-item {position: relative;z-index: 1;}#sk-container-id-23 div.sk-parallel {display: flex;align-items: stretch;justify-content: center;background-color: white;position: relative;}#sk-container-id-23 div.sk-item::before, #sk-container-id-23 div.sk-parallel-item::before {content: \"\";position: absolute;border-left: 1px solid gray;box-sizing: border-box;top: 0;bottom: 0;left: 50%;z-index: -1;}#sk-container-id-23 div.sk-parallel-item {display: flex;flex-direction: column;z-index: 1;position: relative;background-color: white;}#sk-container-id-23 div.sk-parallel-item:first-child::after {align-self: flex-end;width: 50%;}#sk-container-id-23 div.sk-parallel-item:last-child::after {align-self: flex-start;width: 50%;}#sk-container-id-23 div.sk-parallel-item:only-child::after {width: 0;}#sk-container-id-23 div.sk-dashed-wrapped {border: 1px dashed gray;margin: 0 0.4em 0.5em 0.4em;box-sizing: border-box;padding-bottom: 0.4em;background-color: white;}#sk-container-id-23 div.sk-label label {font-family: monospace;font-weight: bold;display: inline-block;line-height: 1.2em;}#sk-container-id-23 div.sk-label-container {text-align: center;}#sk-container-id-23 div.sk-container {/* jupyter's `normalize.less` sets `[hidden] { display: none; }` but bootstrap.min.css set `[hidden] { display: none !important; }` so we also need the `!important` here to be able to override the default hidden behavior on the sphinx rendered scikit-learn.org. See: https://github.com/scikit-learn/scikit-learn/issues/21755 */display: inline-block !important;position: relative;}#sk-container-id-23 div.sk-text-repr-fallback {display: none;}</style><div id=\"sk-container-id-23\" class=\"sk-top-container\"><div class=\"sk-text-repr-fallback\"><pre>RandomForestClassifier(max_depth=20, random_state=0)</pre><b>In a Jupyter environment, please rerun this cell to show the HTML representation or trust the notebook. <br />On GitHub, the HTML representation is unable to render, please try loading this page with nbviewer.org.</b></div><div class=\"sk-container\" hidden><div class=\"sk-item\"><div class=\"sk-estimator sk-toggleable\"><input class=\"sk-toggleable__control sk-hidden--visually\" id=\"sk-estimator-id-23\" type=\"checkbox\" checked><label for=\"sk-estimator-id-23\" class=\"sk-toggleable__label sk-toggleable__label-arrow\">RandomForestClassifier</label><div class=\"sk-toggleable__content\"><pre>RandomForestClassifier(max_depth=20, random_state=0)</pre></div></div></div></div></div>"
      ],
      "text/plain": [
       "RandomForestClassifier(max_depth=20, random_state=0)"
      ]
     },
     "execution_count": 291,
     "metadata": {},
     "output_type": "execute_result"
    }
   ],
   "source": [
    "log_reg = RandomForestClassifier(n_estimators=100,\n",
    "                             max_depth=20,\n",
    "                             random_state=0)\n",
    "log_reg.fit(X_train_over, y_train_over)"
   ]
  },
  {
   "cell_type": "code",
   "execution_count": 292,
   "metadata": {},
   "outputs": [
    {
     "name": "stdout",
     "output_type": "stream",
     "text": [
      "                   precision    recall  f1-score   support\n",
      "\n",
      "        Attaquant       0.48      0.43      0.46        30\n",
      "        Défenseur       0.48      0.67      0.56        42\n",
      "   Gardien de but       0.85      0.65      0.73        17\n",
      "Milieu de terrain       0.50      0.37      0.43        35\n",
      "\n",
      "         accuracy                           0.52       124\n",
      "        macro avg       0.58      0.53      0.54       124\n",
      "     weighted avg       0.54      0.52      0.52       124\n",
      "\n"
     ]
    },
    {
     "name": "stderr",
     "output_type": "stream",
     "text": [
      "c:\\Users\\User\\anaconda3\\Lib\\site-packages\\sklearn\\base.py:439: UserWarning: X does not have valid feature names, but RandomForestClassifier was fitted with feature names\n",
      "  warnings.warn(\n"
     ]
    }
   ],
   "source": [
    "pred2 = log_reg.predict(X_test_scaled)\n",
    "print(classification_report(y_pred = pred2, y_true = y_test))\n"
   ]
  },
  {
   "cell_type": "code",
   "execution_count": 293,
   "metadata": {},
   "outputs": [
    {
     "name": "stdout",
     "output_type": "stream",
     "text": [
      "Accuracy score 0.5241935483870968\n"
     ]
    }
   ],
   "source": [
    "print(\"Accuracy score\", accuracy_score(y_test, pred2))\n",
    "# print(\"Precision score\", precision_score(pred, y_test), average='weighted')\n",
    "# print(\"Recall score\", recall_score(pred, y_test), average='weighted')\n",
    "# print(\"f1 score\", f1_score(pred, y_test), average='weighted')"
   ]
  }
 ],
 "metadata": {
  "kernelspec": {
   "display_name": "base",
   "language": "python",
   "name": "python3"
  },
  "language_info": {
   "codemirror_mode": {
    "name": "ipython",
    "version": 3
   },
   "file_extension": ".py",
   "mimetype": "text/x-python",
   "name": "python",
   "nbconvert_exporter": "python",
   "pygments_lexer": "ipython3",
   "version": "3.11.7"
  }
 },
 "nbformat": 4,
 "nbformat_minor": 2
}
